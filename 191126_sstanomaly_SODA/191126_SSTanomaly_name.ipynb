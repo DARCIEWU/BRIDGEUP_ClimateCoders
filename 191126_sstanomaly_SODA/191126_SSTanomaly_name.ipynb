{
 "cells": [
  {
   "cell_type": "markdown",
   "metadata": {},
   "source": [
    "## Sea Surface Temperature (SST) anomalies\n",
    "\n",
    "Sea surface temperature anomalies measure the difference in temperature with respect to average conditions of the ocean. So, a positive difference means the surface ocean is warmer than normal and a negative difference means it's cooler than normal.  \n",
    "\n",
    "In the graph below, redder colors indicate a positive difference and bluer colors indicate a negative difference. Does this make sense based on our discussion of how temperature is distributed around the Earth?\n",
    "\n",
    "![SST anomaly](https://www.ospo.noaa.gov/data/sst/anomaly/2019/anomnight.1.3.2019.gif)"
   ]
  },
  {
   "cell_type": "markdown",
   "metadata": {},
   "source": [
    "We are going to calculate sea surface temperature anomalies for the SODA dataset today.  SODA or Simple Ocean Data Assimilation combines experimental measurements of the ocean with modelled data to map out ocean conditions across the globe. The oceans are huge (almost 70% of the Earth's surface is covered by oceans) so it very difficult to get oceanographic measurements of every inch of it. Scientists instead use models based on their understanding of what influences the oceans to fill in the gaps in their measurements. They can also use models to go back in time to look at what oceans might have been like in the past.\n",
    "\n",
    "### Pseudocode\n",
    "Here are the steps we need to take:\n",
    "1. import file\n",
    "1. save the necessary variables\n",
    "1. find the mean temperature\n",
    "1. find SST anomaly"
   ]
  },
  {
   "cell_type": "markdown",
   "metadata": {},
   "source": [
    "#### Step 1: Import file\n",
    "\n",
    "```\n",
    "change directory\n",
    "\n",
    "import netcdf4 module\n",
    "\n",
    "read in and save dataset as a variable called 'data'\n",
    "\n",
    "look at the names of the variables\n",
    "```"
   ]
  },
  {
   "cell_type": "code",
   "execution_count": 1,
   "metadata": {},
   "outputs": [],
   "source": [
    "from netCDF4 import Dataset\n",
    "import os\n",
    "os.chdir('/Users/brownscholar/Dropbox/BridgeUP_ClimateCoders/Data')\n",
    "data = Dataset('soda3.12.2_mn_ocean_reg_2017.nc')"
   ]
  },
  {
   "cell_type": "code",
   "execution_count": null,
   "metadata": {},
   "outputs": [],
   "source": []
  },
  {
   "cell_type": "code",
   "execution_count": null,
   "metadata": {},
   "outputs": [],
   "source": []
  },
  {
   "cell_type": "code",
   "execution_count": null,
   "metadata": {},
   "outputs": [],
   "source": []
  },
  {
   "cell_type": "markdown",
   "metadata": {},
   "source": [
    "This is a description of what each of these variables are"
   ]
  },
  {
   "cell_type": "code",
   "execution_count": 2,
   "metadata": {},
   "outputs": [
    {
     "name": "stdout",
     "output_type": "stream",
     "text": [
      "time :  time\n",
      "xt_ocean :  longitude\n",
      "yt_ocean :  latitude\n",
      "xu_ocean :  longitude\n",
      "yu_ocean :  latitude\n",
      "st_ocean :  tcell zstar depth\n",
      "sw_ocean :  ucell zstar depth\n",
      "temp :  Potential temperature\n",
      "salt :  Practical Salinity\n",
      "wt :  dia-surface velocity T-points\n",
      "ssh :  effective sea level (eta_t + patm/(rho0*g)) on T cells\n",
      "mlt :  mixed layer depth determined by temperature criteria\n",
      "mlp :  Depth of potential density mixed layer\n",
      "mls :  mixed layer depth determined by salinity criteria\n",
      "net_heating :  surface ocean heat flux coming through coupler and mass transfer\n",
      "prho :  potential density referenced to 0 dbar\n",
      "u :  i-current\n",
      "v :  j-current\n",
      "taux :  i-directed wind stress forcing u-velocity\n",
      "tauy :  j-directed wind stress forcing v-velocity\n"
     ]
    }
   ],
   "source": [
    "for variable in data.variables:\n",
    "    print(variable,': ',data.variables[variable].long_name)\n"
   ]
  },
  {
   "cell_type": "markdown",
   "metadata": {},
   "source": [
    "Use the code above to print out the shape of the variables. What do the dimensions of temp i.e temperature correspond to?"
   ]
  },
  {
   "cell_type": "code",
   "execution_count": 8,
   "metadata": {},
   "outputs": [
    {
     "name": "stdout",
     "output_type": "stream",
     "text": [
      "time :  (12,)\n",
      "xt_ocean :  (720,)\n",
      "yt_ocean :  (330,)\n",
      "xu_ocean :  (720,)\n",
      "yu_ocean :  (330,)\n",
      "st_ocean :  (50,)\n",
      "sw_ocean :  (50,)\n",
      "temp :  (12, 50, 330, 720)\n",
      "salt :  (12, 50, 330, 720)\n",
      "wt :  (12, 50, 330, 720)\n",
      "ssh :  (12, 330, 720)\n",
      "mlt :  (12, 330, 720)\n",
      "mlp :  (12, 330, 720)\n",
      "mls :  (12, 330, 720)\n",
      "net_heating :  (12, 330, 720)\n",
      "prho :  (12, 50, 330, 720)\n",
      "u :  (12, 50, 330, 720)\n",
      "v :  (12, 50, 330, 720)\n",
      "taux :  (12, 330, 720)\n",
      "tauy :  (12, 330, 720)\n"
     ]
    }
   ],
   "source": [
    "for variable in data.variables:\n",
    "    print(variable,': ',data.variables[variable].shape)\n"
   ]
  },
  {
   "cell_type": "markdown",
   "metadata": {},
   "source": [
    "#### Step 2: Save the required variables\n",
    "\n",
    "```\n",
    "save the variables temperature depends on i.e time, st_ocean, yt_ocean, xt_ocean\n",
    "\n",
    "save temperature i.e temp\n",
    "```"
   ]
  },
  {
   "cell_type": "code",
   "execution_count": 4,
   "metadata": {},
   "outputs": [],
   "source": [
    "# Save latitude as variable\n",
    "lat = data.variables['yt_ocean'][:]\n",
    "# Save longitude as variable\n",
    "lon =  data.variables['xt_ocean'][:]\n",
    "#Save time as variable\n",
    "time = data.variables['time'][:]\n",
    "#Save depth as variable\n",
    "depth = data.variables['st_ocean'][:]\n",
    "# Save temperature as variable\n",
    "temp = data.variables['temp'][:]"
   ]
  },
  {
   "cell_type": "code",
   "execution_count": 5,
   "metadata": {},
   "outputs": [],
   "source": [
    "# Save temperature as variable"
   ]
  },
  {
   "cell_type": "markdown",
   "metadata": {},
   "source": [
    "Print out the minimum and maximum of each variable. Do these values make sense?"
   ]
  },
  {
   "cell_type": "code",
   "execution_count": 6,
   "metadata": {},
   "outputs": [
    {
     "name": "stdout",
     "output_type": "stream",
     "text": [
      "0.25\n",
      "359.75\n"
     ]
    }
   ],
   "source": [
    "import numpy as np\n",
    "\n",
    "#You can use the min() and max() *method* to do this calculation.\n",
    "#lon = np.array([1,2,3,4,5])\n",
    "#print('Example: ',lon.min(),'\\n')\n",
    "\n",
    "print(lon.min())\n",
    "print(lon.max())"
   ]
  },
  {
   "cell_type": "markdown",
   "metadata": {},
   "source": [
    "Notice that time is measured in a different format as days from Jan 01, 1980. Sound familiar? We'll learn how to convert to a datetime format using the function in another session.\n",
    "\n",
    "Draw out what the temp variable might look like."
   ]
  },
  {
   "cell_type": "markdown",
   "metadata": {},
   "source": []
  },
  {
   "cell_type": "markdown",
   "metadata": {},
   "source": [
    "#### Step 3: Find mean temperature \n",
    "\n",
    "*Hint*: Use https://docs.scipy.org/doc/numpy/reference/generated/numpy.ma.mean.html\n",
    "\n",
    "First, we need to decide what depth we would consider to be surface ocean? Call this variable z."
   ]
  },
  {
   "cell_type": "code",
   "execution_count": 10,
   "metadata": {
    "scrolled": true
   },
   "outputs": [],
   "source": [
    "z = temp[0]"
   ]
  },
  {
   "cell_type": "markdown",
   "metadata": {},
   "source": [
    "Then, let's do this step by step. \n",
    "\n",
    "1. Only obtain data for the first month. You should get a grid with a shape of (50, 330, 720) "
   ]
  },
  {
   "cell_type": "code",
   "execution_count": 11,
   "metadata": {},
   "outputs": [
    {
     "name": "stdout",
     "output_type": "stream",
     "text": [
      "[[[-- -- -- ... -- -- --]\n",
      "  [-- -- -- ... -- -- --]\n",
      "  [-- -- -- ... -- -- --]\n",
      "  ...\n",
      "  [-1.7133582830429077 -1.7133338451385498 -1.7132887840270996 ...\n",
      "   -1.713502049446106 -1.7134593725204468 -1.7134010791778564]\n",
      "  [-1.7146706581115723 -1.7147420644760132 -1.7147945165634155 ...\n",
      "   -1.714470624923706 -1.714550256729126 -1.7146133184432983]\n",
      "  [-1.719269871711731 -1.7193185091018677 -1.7193660736083984 ...\n",
      "   -1.7191441059112549 -1.7191851139068604 -1.719224214553833]]\n",
      "\n",
      " [[-- -- -- ... -- -- --]\n",
      "  [-- -- -- ... -- -- --]\n",
      "  [-- -- -- ... -- -- --]\n",
      "  ...\n",
      "  [-1.7133210897445679 -1.7132916450500488 -1.7133280038833618 ...\n",
      "   -1.7135671377182007 -1.7134387493133545 -1.7133781909942627]\n",
      "  [-1.7134846448898315 -1.713546872138977 -1.7135862112045288 ...\n",
      "   -1.7136391401290894 -1.7135635614395142 -1.7134833335876465]\n",
      "  [-1.7201088666915894 -1.720162034034729 -1.7202140092849731 ...\n",
      "   -1.7199562788009644 -1.7200077772140503 -1.7200566530227661]]\n",
      "\n",
      " [[-- -- -- ... -- -- --]\n",
      "  [-- -- -- ... -- -- --]\n",
      "  [-- -- -- ... -- -- --]\n",
      "  ...\n",
      "  [-1.710474967956543 -1.710585355758667 -1.7112571001052856 ...\n",
      "   -1.7095400094985962 -1.7103757858276367 -1.7105116844177246]\n",
      "  [-1.6987340450286865 -1.6991678476333618 -1.6994853019714355 ...\n",
      "   -1.697812557220459 -1.6980178356170654 -1.6982903480529785]\n",
      "  [-1.7181209325790405 -1.7181776762008667 -1.718233585357666 ...\n",
      "   -1.7180466651916504 -1.718062162399292 -1.7180782556533813]]\n",
      "\n",
      " ...\n",
      "\n",
      " [[-- -- -- ... -- -- --]\n",
      "  [-- -- -- ... -- -- --]\n",
      "  [-- -- -- ... -- -- --]\n",
      "  ...\n",
      "  [-- -- -- ... -- -- --]\n",
      "  [-- -- -- ... -- -- --]\n",
      "  [-- -- -- ... -- -- --]]\n",
      "\n",
      " [[-- -- -- ... -- -- --]\n",
      "  [-- -- -- ... -- -- --]\n",
      "  [-- -- -- ... -- -- --]\n",
      "  ...\n",
      "  [-- -- -- ... -- -- --]\n",
      "  [-- -- -- ... -- -- --]\n",
      "  [-- -- -- ... -- -- --]]\n",
      "\n",
      " [[-- -- -- ... -- -- --]\n",
      "  [-- -- -- ... -- -- --]\n",
      "  [-- -- -- ... -- -- --]\n",
      "  ...\n",
      "  [-- -- -- ... -- -- --]\n",
      "  [-- -- -- ... -- -- --]\n",
      "  [-- -- -- ... -- -- --]]]\n"
     ]
    }
   ],
   "source": [
    "print(z)"
   ]
  },
  {
   "cell_type": "markdown",
   "metadata": {},
   "source": [
    "1. Identify the index for the first z m of the ocean\n",
    "1. Save temperature for the top z m"
   ]
  },
  {
   "cell_type": "code",
   "execution_count": 13,
   "metadata": {},
   "outputs": [
    {
     "data": {
      "text/plain": [
       "masked_array(data=[ True,  True, False, False, False, False, False, False,\n",
       "                   False, False, False, False, False, False, False, False,\n",
       "                   False, False, False, False, False, False, False, False,\n",
       "                   False, False, False, False, False, False, False, False,\n",
       "                   False, False, False, False, False, False, False, False,\n",
       "                   False, False, False, False, False, False, False, False,\n",
       "                   False, False],\n",
       "             mask=False,\n",
       "       fill_value=True)"
      ]
     },
     "execution_count": 13,
     "metadata": {},
     "output_type": "execute_result"
    }
   ],
   "source": [
    "depth <20"
   ]
  },
  {
   "cell_type": "code",
   "execution_count": 15,
   "metadata": {},
   "outputs": [],
   "source": [
    "temp_jan = temp[0,depth<20,:,:]"
   ]
  },
  {
   "cell_type": "markdown",
   "metadata": {},
   "source": [
    "Average over all z m. You should get a grid that is 330 by 720."
   ]
  },
  {
   "cell_type": "code",
   "execution_count": 16,
   "metadata": {},
   "outputs": [
    {
     "data": {
      "text/plain": [
       "(330, 720)"
      ]
     },
     "execution_count": 16,
     "metadata": {},
     "output_type": "execute_result"
    }
   ],
   "source": [
    "temp_jan_mean = temp_jan.mean(axis = 0)\n",
    "temp_jan_mean.shape"
   ]
  },
  {
   "cell_type": "markdown",
   "metadata": {},
   "source": [
    "Now, find the mean for the entire grid."
   ]
  },
  {
   "cell_type": "code",
   "execution_count": 17,
   "metadata": {},
   "outputs": [
    {
     "data": {
      "text/plain": [
       "14.015762457458468"
      ]
     },
     "execution_count": 17,
     "metadata": {},
     "output_type": "execute_result"
    }
   ],
   "source": [
    "temp_jan_mean.mean()"
   ]
  },
  {
   "cell_type": "markdown",
   "metadata": {},
   "source": [
    "#### But....\n",
    "\n",
    "You can do this step all at once by just applying the mean function to your array of the first month down to a depth of z m. I just wanted to make sure you got the steps its taking."
   ]
  },
  {
   "cell_type": "code",
   "execution_count": null,
   "metadata": {},
   "outputs": [],
   "source": []
  },
  {
   "cell_type": "markdown",
   "metadata": {},
   "source": [
    "Now find the mean for all 12 months to a depth of z m."
   ]
  },
  {
   "cell_type": "code",
   "execution_count": 19,
   "metadata": {},
   "outputs": [],
   "source": [
    "temp_mean = temp[0,depth<20,:,:].mean()"
   ]
  },
  {
   "cell_type": "markdown",
   "metadata": {},
   "source": [
    "#### Step 3: Find SST anomaly\n",
    "\n",
    "Remember:\n",
    "\n",
    "SST anomaly = SST - average SST"
   ]
  },
  {
   "cell_type": "code",
   "execution_count": 20,
   "metadata": {},
   "outputs": [
    {
     "data": {
      "text/plain": [
       "masked_array(\n",
       "  data=[[[[--, --, --, ..., --, --, --],\n",
       "          [--, --, --, ..., --, --, --],\n",
       "          [--, --, --, ..., --, --, --],\n",
       "          ...,\n",
       "          [-15.729121208190918, -15.729097366333008,\n",
       "           -15.72905158996582, ..., -15.729265213012695,\n",
       "           -15.729222297668457, -15.729164123535156],\n",
       "          [-15.73043441772461, -15.730504989624023,\n",
       "           -15.730557441711426, ..., -15.730234146118164,\n",
       "           -15.730313301086426, -15.730376243591309],\n",
       "          [-15.73503303527832, -15.735081672668457,\n",
       "           -15.735129356384277, ..., -15.734907150268555,\n",
       "           -15.73494815826416, -15.734987258911133]],\n",
       "\n",
       "         [[--, --, --, ..., --, --, --],\n",
       "          [--, --, --, ..., --, --, --],\n",
       "          [--, --, --, ..., --, --, --],\n",
       "          ...,\n",
       "          [-15.729084014892578, -15.729055404663086,\n",
       "           -15.72909164428711, ..., -15.729330062866211,\n",
       "           -15.729202270507812, -15.729141235351562],\n",
       "          [-15.729248046875, -15.729310035705566, -15.729349136352539,\n",
       "           ..., -15.729402542114258, -15.729327201843262,\n",
       "           -15.729246139526367],\n",
       "          [-15.735872268676758, -15.735925674438477,\n",
       "           -15.735977172851562, ..., -15.735719680786133,\n",
       "           -15.735771179199219, -15.735819816589355]]],\n",
       "\n",
       "\n",
       "        [[[--, --, --, ..., --, --, --],\n",
       "          [--, --, --, ..., --, --, --],\n",
       "          [--, --, --, ..., --, --, --],\n",
       "          ...,\n",
       "          [-15.733528137207031, -15.733817100524902,\n",
       "           -15.734077453613281, ..., -15.732504844665527,\n",
       "           -15.732952117919922, -15.73328971862793],\n",
       "          [-15.73188591003418, -15.731950759887695,\n",
       "           -15.731988906860352, ..., -15.731555938720703,\n",
       "           -15.73157024383545, -15.731694221496582],\n",
       "          [-15.72946834564209, -15.729497909545898, -15.72952651977539,\n",
       "           ..., -15.729555130004883, -15.729508399963379,\n",
       "           -15.72946548461914]],\n",
       "\n",
       "         [[--, --, --, ..., --, --, --],\n",
       "          [--, --, --, ..., --, --, --],\n",
       "          [--, --, --, ..., --, --, --],\n",
       "          ...,\n",
       "          [-15.73327350616455, -15.733488082885742, -15.73377513885498,\n",
       "           ..., -15.73235034942627, -15.73277759552002,\n",
       "           -15.733098030090332],\n",
       "          [-15.731868743896484, -15.731945037841797,\n",
       "           -15.731992721557617, ..., -15.731527328491211,\n",
       "           -15.731537818908691, -15.731664657592773],\n",
       "          [-15.729389190673828, -15.72941780090332,\n",
       "           -15.729445457458496, ..., -15.729485511779785,\n",
       "           -15.729434967041016, -15.729388236999512]]],\n",
       "\n",
       "\n",
       "        [[[--, --, --, ..., --, --, --],\n",
       "          [--, --, --, ..., --, --, --],\n",
       "          [--, --, --, ..., --, --, --],\n",
       "          ...,\n",
       "          [-15.74019718170166, -15.74017333984375, -15.739900588989258,\n",
       "           ..., -15.74053955078125, -15.740142822265625,\n",
       "           -15.740165710449219],\n",
       "          [-15.740166664123535, -15.740413665771484,\n",
       "           -15.740655899047852, ..., -15.739280700683594,\n",
       "           -15.739619255065918, -15.73991870880127],\n",
       "          [-15.751603126525879, -15.751569747924805,\n",
       "           -15.75153636932373, ..., -15.75165843963623,\n",
       "           -15.751644134521484, -15.751629829406738]],\n",
       "\n",
       "         [[--, --, --, ..., --, --, --],\n",
       "          [--, --, --, ..., --, --, --],\n",
       "          [--, --, --, ..., --, --, --],\n",
       "          ...,\n",
       "          [-15.740185737609863, -15.740172386169434,\n",
       "           -15.739913940429688, ..., -15.740546226501465,\n",
       "           -15.740132331848145, -15.740148544311523],\n",
       "          [-15.740106582641602, -15.74034595489502,\n",
       "           -15.740581512451172, ..., -15.739217758178711,\n",
       "           -15.739563941955566, -15.739866256713867],\n",
       "          [-15.751578330993652, -15.751545906066895,\n",
       "           -15.75151538848877, ..., -15.751627922058105,\n",
       "           -15.751614570617676, -15.751603126525879]]],\n",
       "\n",
       "\n",
       "        ...,\n",
       "\n",
       "\n",
       "        [[[--, --, --, ..., --, --, --],\n",
       "          [--, --, --, ..., --, --, --],\n",
       "          [--, --, --, ..., --, --, --],\n",
       "          ...,\n",
       "          [-15.782768249511719, -15.782720565795898,\n",
       "           -15.782844543457031, ..., -15.782943725585938,\n",
       "           -15.782920837402344, -15.782857894897461],\n",
       "          [-15.78036117553711, -15.780269622802734, -15.78017807006836,\n",
       "           ..., -15.780574798583984, -15.780492782592773,\n",
       "           -15.780427932739258],\n",
       "          [-15.773186683654785, -15.773188591003418,\n",
       "           -15.77319049835205, ..., -15.77326488494873,\n",
       "           -15.773229598999023, -15.773197174072266]],\n",
       "\n",
       "         [[--, --, --, ..., --, --, --],\n",
       "          [--, --, --, ..., --, --, --],\n",
       "          [--, --, --, ..., --, --, --],\n",
       "          ...,\n",
       "          [-15.782822608947754, -15.782758712768555,\n",
       "           -15.782880783081055, ..., -15.782999038696289,\n",
       "           -15.782983779907227, -15.782922744750977],\n",
       "          [-15.780206680297852, -15.780057907104492,\n",
       "           -15.779911041259766, ..., -15.780467987060547,\n",
       "           -15.780380249023438, -15.780311584472656],\n",
       "          [-15.773114204406738, -15.773117065429688,\n",
       "           -15.773119926452637, ..., -15.773192405700684,\n",
       "           -15.773157119750977, -15.773124694824219]]],\n",
       "\n",
       "\n",
       "        [[[--, --, --, ..., --, --, --],\n",
       "          [--, --, --, ..., --, --, --],\n",
       "          [--, --, --, ..., --, --, --],\n",
       "          ...,\n",
       "          [-15.782979011535645, -15.783235549926758,\n",
       "           -15.783830642700195, ..., -15.782078742980957,\n",
       "           -15.78242015838623, -15.782743453979492],\n",
       "          [-15.786580085754395, -15.786508560180664,\n",
       "           -15.786443710327148, ..., -15.786527633666992,\n",
       "           -15.786577224731445, -15.786614418029785],\n",
       "          [-15.781915664672852, -15.781912803649902,\n",
       "           -15.781909942626953, ..., -15.781947135925293,\n",
       "           -15.78193473815918, -15.781922340393066]],\n",
       "\n",
       "         [[--, --, --, ..., --, --, --],\n",
       "          [--, --, --, ..., --, --, --],\n",
       "          [--, --, --, ..., --, --, --],\n",
       "          ...,\n",
       "          [-15.782989501953125, -15.783252716064453,\n",
       "           -15.783880233764648, ..., -15.782060623168945,\n",
       "           -15.782413482666016, -15.782747268676758],\n",
       "          [-15.786693572998047, -15.78662109375, -15.786551475524902,\n",
       "           ..., -15.786641120910645, -15.78669548034668,\n",
       "           -15.786733627319336],\n",
       "          [-15.782057762145996, -15.7820463180542, -15.782036781311035,\n",
       "           ..., -15.782099723815918, -15.782084465026855,\n",
       "           -15.782069206237793]]],\n",
       "\n",
       "\n",
       "        [[[--, --, --, ..., --, --, --],\n",
       "          [--, --, --, ..., --, --, --],\n",
       "          [--, --, --, ..., --, --, --],\n",
       "          ...,\n",
       "          [-15.766244888305664, -15.767416000366211,\n",
       "           -15.769081115722656, ..., -15.762645721435547,\n",
       "           -15.763871192932129, -15.765165328979492],\n",
       "          [-15.786848068237305, -15.786731719970703,\n",
       "           -15.786617279052734, ..., -15.787189483642578,\n",
       "           -15.787012100219727, -15.786906242370605],\n",
       "          [-15.789475440979004, -15.789336204528809,\n",
       "           -15.789201736450195, ..., -15.789632797241211,\n",
       "           -15.789602279663086, -15.78957462310791]],\n",
       "\n",
       "         [[--, --, --, ..., --, --, --],\n",
       "          [--, --, --, ..., --, --, --],\n",
       "          [--, --, --, ..., --, --, --],\n",
       "          ...,\n",
       "          [-15.766653060913086, -15.767826080322266,\n",
       "           -15.769502639770508, ..., -15.762981414794922,\n",
       "           -15.764250755310059, -15.765565872192383],\n",
       "          [-15.786895751953125, -15.786791801452637,\n",
       "           -15.786687850952148, ..., -15.787250518798828,\n",
       "           -15.787068367004395, -15.786953926086426],\n",
       "          [-15.789690971374512, -15.789546966552734,\n",
       "           -15.789407730102539, ..., -15.789825439453125,\n",
       "           -15.789806365966797, -15.789789199829102]]]],\n",
       "  mask=[[[[ True,  True,  True, ...,  True,  True,  True],\n",
       "          [ True,  True,  True, ...,  True,  True,  True],\n",
       "          [ True,  True,  True, ...,  True,  True,  True],\n",
       "          ...,\n",
       "          [False, False, False, ..., False, False, False],\n",
       "          [False, False, False, ..., False, False, False],\n",
       "          [False, False, False, ..., False, False, False]],\n",
       "\n",
       "         [[ True,  True,  True, ...,  True,  True,  True],\n",
       "          [ True,  True,  True, ...,  True,  True,  True],\n",
       "          [ True,  True,  True, ...,  True,  True,  True],\n",
       "          ...,\n",
       "          [False, False, False, ..., False, False, False],\n",
       "          [False, False, False, ..., False, False, False],\n",
       "          [False, False, False, ..., False, False, False]]],\n",
       "\n",
       "\n",
       "        [[[ True,  True,  True, ...,  True,  True,  True],\n",
       "          [ True,  True,  True, ...,  True,  True,  True],\n",
       "          [ True,  True,  True, ...,  True,  True,  True],\n",
       "          ...,\n",
       "          [False, False, False, ..., False, False, False],\n",
       "          [False, False, False, ..., False, False, False],\n",
       "          [False, False, False, ..., False, False, False]],\n",
       "\n",
       "         [[ True,  True,  True, ...,  True,  True,  True],\n",
       "          [ True,  True,  True, ...,  True,  True,  True],\n",
       "          [ True,  True,  True, ...,  True,  True,  True],\n",
       "          ...,\n",
       "          [False, False, False, ..., False, False, False],\n",
       "          [False, False, False, ..., False, False, False],\n",
       "          [False, False, False, ..., False, False, False]]],\n",
       "\n",
       "\n",
       "        [[[ True,  True,  True, ...,  True,  True,  True],\n",
       "          [ True,  True,  True, ...,  True,  True,  True],\n",
       "          [ True,  True,  True, ...,  True,  True,  True],\n",
       "          ...,\n",
       "          [False, False, False, ..., False, False, False],\n",
       "          [False, False, False, ..., False, False, False],\n",
       "          [False, False, False, ..., False, False, False]],\n",
       "\n",
       "         [[ True,  True,  True, ...,  True,  True,  True],\n",
       "          [ True,  True,  True, ...,  True,  True,  True],\n",
       "          [ True,  True,  True, ...,  True,  True,  True],\n",
       "          ...,\n",
       "          [False, False, False, ..., False, False, False],\n",
       "          [False, False, False, ..., False, False, False],\n",
       "          [False, False, False, ..., False, False, False]]],\n",
       "\n",
       "\n",
       "        ...,\n",
       "\n",
       "\n",
       "        [[[ True,  True,  True, ...,  True,  True,  True],\n",
       "          [ True,  True,  True, ...,  True,  True,  True],\n",
       "          [ True,  True,  True, ...,  True,  True,  True],\n",
       "          ...,\n",
       "          [False, False, False, ..., False, False, False],\n",
       "          [False, False, False, ..., False, False, False],\n",
       "          [False, False, False, ..., False, False, False]],\n",
       "\n",
       "         [[ True,  True,  True, ...,  True,  True,  True],\n",
       "          [ True,  True,  True, ...,  True,  True,  True],\n",
       "          [ True,  True,  True, ...,  True,  True,  True],\n",
       "          ...,\n",
       "          [False, False, False, ..., False, False, False],\n",
       "          [False, False, False, ..., False, False, False],\n",
       "          [False, False, False, ..., False, False, False]]],\n",
       "\n",
       "\n",
       "        [[[ True,  True,  True, ...,  True,  True,  True],\n",
       "          [ True,  True,  True, ...,  True,  True,  True],\n",
       "          [ True,  True,  True, ...,  True,  True,  True],\n",
       "          ...,\n",
       "          [False, False, False, ..., False, False, False],\n",
       "          [False, False, False, ..., False, False, False],\n",
       "          [False, False, False, ..., False, False, False]],\n",
       "\n",
       "         [[ True,  True,  True, ...,  True,  True,  True],\n",
       "          [ True,  True,  True, ...,  True,  True,  True],\n",
       "          [ True,  True,  True, ...,  True,  True,  True],\n",
       "          ...,\n",
       "          [False, False, False, ..., False, False, False],\n",
       "          [False, False, False, ..., False, False, False],\n",
       "          [False, False, False, ..., False, False, False]]],\n",
       "\n",
       "\n",
       "        [[[ True,  True,  True, ...,  True,  True,  True],\n",
       "          [ True,  True,  True, ...,  True,  True,  True],\n",
       "          [ True,  True,  True, ...,  True,  True,  True],\n",
       "          ...,\n",
       "          [False, False, False, ..., False, False, False],\n",
       "          [False, False, False, ..., False, False, False],\n",
       "          [False, False, False, ..., False, False, False]],\n",
       "\n",
       "         [[ True,  True,  True, ...,  True,  True,  True],\n",
       "          [ True,  True,  True, ...,  True,  True,  True],\n",
       "          [ True,  True,  True, ...,  True,  True,  True],\n",
       "          ...,\n",
       "          [False, False, False, ..., False, False, False],\n",
       "          [False, False, False, ..., False, False, False],\n",
       "          [False, False, False, ..., False, False, False]]]],\n",
       "  fill_value=-1e+20,\n",
       "  dtype=float32)"
      ]
     },
     "execution_count": 20,
     "metadata": {},
     "output_type": "execute_result"
    }
   ],
   "source": [
    "temp[:, depth<20,:,:] - temp_mean"
   ]
  },
  {
   "cell_type": "markdown",
   "metadata": {},
   "source": [
    "## Challenge\n",
    "\n",
    "Repeat these steps for sea surface salinity data ('salt')"
   ]
  },
  {
   "cell_type": "code",
   "execution_count": null,
   "metadata": {},
   "outputs": [],
   "source": []
  }
 ],
 "metadata": {
  "kernelspec": {
   "display_name": "Python 3",
   "language": "python",
   "name": "python3"
  },
  "language_info": {
   "codemirror_mode": {
    "name": "ipython",
    "version": 3
   },
   "file_extension": ".py",
   "mimetype": "text/x-python",
   "name": "python",
   "nbconvert_exporter": "python",
   "pygments_lexer": "ipython3",
   "version": "3.7.3"
  }
 },
 "nbformat": 4,
 "nbformat_minor": 2
}
