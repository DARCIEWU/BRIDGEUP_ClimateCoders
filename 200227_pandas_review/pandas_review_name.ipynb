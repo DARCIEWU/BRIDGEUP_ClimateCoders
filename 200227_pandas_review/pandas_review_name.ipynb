{
 "cells": [
  {
   "cell_type": "code",
   "execution_count": 2,
   "metadata": {},
   "outputs": [],
   "source": [
    "import pandas as pd\n",
    "import os\n",
    "import matplotlib.pyplot as plt"
   ]
  },
  {
   "cell_type": "markdown",
   "metadata": {},
   "source": [
    "#### Import the ENSO climate index"
   ]
  },
  {
   "cell_type": "code",
   "execution_count": 3,
   "metadata": {},
   "outputs": [
    {
     "name": "stdout",
     "output_type": "stream",
     "text": [
      "     Year     1     2     3     4     5     6     7     8     9    10    11  \\\n",
      "0    1871 -0.25 -0.58 -0.43 -0.50 -0.70 -0.53 -0.60 -0.33 -0.24 -0.33 -0.31   \n",
      "1    1872 -0.72 -0.62 -0.50 -0.77 -0.62 -0.52 -0.32 -0.85 -1.02 -0.94 -0.79   \n",
      "2    1873 -0.78 -1.01 -1.31 -0.67 -0.53 -0.48 -0.58 -0.39 -0.34 -0.78 -0.77   \n",
      "3    1874 -0.93 -1.06 -1.40 -0.94 -0.86 -0.72 -1.00 -1.05 -1.13 -1.25 -1.33   \n",
      "4    1875 -0.71 -0.37 -0.59 -0.87 -1.09 -0.76 -0.85 -0.81 -0.91 -0.83 -0.64   \n",
      "5    1876 -0.95 -1.20 -1.13 -1.18 -1.08 -0.43 -0.34 -0.16 -0.02  0.11  0.15   \n",
      "6    1877  0.35  0.46  0.52  0.50  0.76  0.98  1.42  1.54  1.75  1.95  2.08   \n",
      "7    1878  2.41  2.43  1.31  0.92  0.82  0.92  0.25 -0.11 -0.32 -0.53 -0.70   \n",
      "8    1879 -0.55 -0.18 -0.24 -0.37 -0.83 -0.67 -0.77 -0.69 -0.83 -0.93 -1.14   \n",
      "9    1880 -1.00 -0.73 -0.62 -0.57 -0.71 -0.61 -0.53 -0.24 -0.03  0.17  0.24   \n",
      "10   1881  0.29  0.23  0.32  0.41  0.16  0.23 -0.26 -0.17 -0.33 -0.43 -0.59   \n",
      "11   1882 -0.45 -0.55 -0.53  0.10  0.01 -0.40 -0.57 -0.33 -0.51 -0.65 -0.92   \n",
      "12   1883 -0.46 -0.49 -0.40 -0.23 -0.38 -0.21 -0.01 -0.03 -0.17 -0.42 -0.22   \n",
      "13   1884 -0.11 -0.01  0.00  0.26  0.40 -0.13  0.28  0.20  0.18  0.29  0.30   \n",
      "14   1885  0.12  0.27  0.12 -0.02  0.44  0.17  0.08  0.34  0.52  0.72  0.81   \n",
      "15   1886  0.17 -0.10 -0.11 -0.37 -0.85 -0.90 -0.97 -1.03 -1.21 -1.14 -1.34   \n",
      "16   1887 -0.68 -1.02 -1.17 -1.18 -1.14 -0.56 -0.55 -0.62 -0.34 -0.12  0.04   \n",
      "17   1888  0.15  0.66  0.40  0.30  0.47  0.40  0.56  0.93  0.58  1.42  2.21   \n",
      "18   1889  1.98  1.47  0.83  0.46  0.32  0.09 -0.76 -0.99 -0.92 -1.31 -1.08   \n",
      "19   1890 -2.49 -2.11 -1.15 -1.14 -1.00 -0.86 -0.92 -1.38 -1.29 -1.26 -1.07   \n",
      "20   1891 -0.45 -0.25 -0.07  0.15  0.13  0.29  0.11  0.05 -0.08 -0.03  0.06   \n",
      "21   1892 -0.50 -0.34 -0.58 -0.65 -0.72 -0.57 -0.62 -0.63 -1.07 -1.54 -1.62   \n",
      "22   1893 -1.23 -1.16 -1.24 -1.30 -1.32 -1.19 -1.32 -1.29 -1.28 -1.36 -1.30   \n",
      "23   1894 -1.09 -1.13 -1.06 -0.92 -1.00 -0.84 -0.88 -0.80 -1.10 -0.82 -0.92   \n",
      "24   1895 -0.73 -0.49 -0.40 -0.17 -0.03 -0.21 -0.26  0.36  0.42  0.32  0.44   \n",
      "25   1896  0.16  0.09  0.15 -0.01 -0.04 -0.21  0.43  1.05  1.04  1.10  1.51   \n",
      "26   1897  1.49  1.14  0.54 -0.22 -0.17 -0.02  0.07 -0.15 -0.24 -0.57 -0.61   \n",
      "27   1898 -0.51 -0.57 -0.79 -0.61 -0.59 -0.28 -0.63 -0.76 -0.19 -0.33 -0.66   \n",
      "28   1899 -0.75 -0.71 -0.56 -0.34  0.04  0.09 -0.02  0.63  0.43  0.92  1.29   \n",
      "29   1900  1.41  1.29  0.99  0.66  0.54  0.76  0.75  0.78  0.56  0.42  0.14   \n",
      "..    ...   ...   ...   ...   ...   ...   ...   ...   ...   ...   ...   ...   \n",
      "112  1983  2.43  2.22  1.69  1.12  1.12  0.62 -0.11 -0.13 -0.50 -1.03 -1.13   \n",
      "113  1984 -0.80 -0.53 -0.48 -0.60 -0.64 -0.90 -0.40 -0.40 -0.35 -0.83 -1.18   \n",
      "114  1985 -0.89 -0.91 -0.96 -0.98 -0.90 -0.76 -0.61 -0.49 -0.57 -0.64 -0.43   \n",
      "115  1986 -0.79 -0.64 -0.51 -0.41 -0.47 -0.08  0.16  0.24  0.59  0.90  1.04   \n",
      "116  1987  1.19  1.17  1.24  0.89  0.91  1.24  1.34  1.48  1.53  1.36  1.29   \n",
      "117  1988  0.69  0.35  0.29 -0.49 -1.05 -1.46 -1.54 -1.44 -1.33 -2.09 -2.18   \n",
      "118  1989 -1.95 -1.37 -1.33 -1.11 -0.80 -0.64 -0.47 -0.58 -0.38 -0.40 -0.30   \n",
      "119  1990  0.02  0.36  0.20  0.26  0.32  0.00  0.15  0.17  0.12  0.13  0.08   \n",
      "120  1991  0.51  0.32  0.10  0.21  0.44  0.65  0.62  0.43  0.22  0.91  1.14   \n",
      "121  1992  1.61  1.62  1.50  1.41  1.27  0.53  0.27 -0.15 -0.14 -0.35 -0.14   \n",
      "122  1993  0.28  0.42  0.47  0.92  0.93  0.64  0.33  0.16  0.26  0.36  0.28   \n",
      "123  1994  0.03 -0.16 -0.06  0.03  0.14  0.27  0.16  0.52  0.40  0.90  1.14   \n",
      "124  1995  1.10  0.87  0.49  0.27  0.03  0.08  0.03 -0.38 -0.57 -0.72 -0.78   \n",
      "125  1996 -0.65 -0.66 -0.48 -0.34 -0.40 -0.12 -0.14 -0.30 -0.34 -0.28 -0.30   \n",
      "126  1997 -0.43 -0.24 -0.06  0.34  0.87  1.15  1.60  1.94  2.10  2.29  2.42   \n",
      "127  1998  2.42  2.08  1.49  0.90  0.68 -0.39 -0.73 -0.83 -0.82 -1.19 -1.23   \n",
      "128  1999 -1.53 -1.41 -0.92 -0.81 -0.87 -0.95 -0.84 -0.98 -0.84 -1.03 -1.41   \n",
      "129  2000 -1.79 -1.53 -1.26 -0.80 -0.80 -0.75 -0.57 -0.36 -0.39 -0.55 -0.75   \n",
      "130  2001 -0.88 -0.63 -0.48 -0.30 -0.30 -0.11  0.01 -0.07 -0.28 -0.26 -0.28   \n",
      "131  2002 -0.14  0.00  0.11  0.14  0.21  0.68  0.57  0.70  0.82  1.16  1.41   \n",
      "132  2003  0.98  0.64  0.48 -0.03 -0.52 -0.19  0.14  0.05  0.15  0.46  0.39   \n",
      "133  2004  0.26  0.17 -0.10  0.06  0.10  0.14  0.41  0.66  0.67  0.73  0.62   \n",
      "134  2005  0.56  0.26  0.28  0.28  0.30  0.22 -0.01 -0.04 -0.08 -0.15 -0.44   \n",
      "135  2006 -0.98 -0.71 -0.73 -0.30 -0.11  0.09  0.03  0.37  0.63  0.76  0.98   \n",
      "136  2007  0.59  0.12 -0.15 -0.16 -0.39 -0.16 -0.37 -0.57 -1.04 -1.40 -1.58   \n",
      "137  2008 -1.79 -1.70 -1.17 -0.89 -0.64 -0.44 -0.04 -0.04 -0.28 -0.30 -0.37   \n",
      "138  2009 -1.00 -0.71 -0.72 -0.25  0.17  0.49  0.69  0.62  0.68  0.96  1.49   \n",
      "139  2010  1.43  1.18  1.07  0.56 -0.15 -0.62 -0.89 -1.33 -1.56 -1.65 -1.57   \n",
      "140  2011 -1.70 -1.26 -0.98 -0.74 -0.53 -0.25 -0.23 -0.66 -0.76 -0.93 -1.09   \n",
      "141  2012 -0.93 -0.61 -0.48 -0.29 -0.18  0.14  0.44  0.66  0.44  0.23  0.33   \n",
      "\n",
      "       12  \n",
      "0   -0.58  \n",
      "1   -0.88  \n",
      "2   -0.70  \n",
      "3   -1.14  \n",
      "4   -0.75  \n",
      "5    0.23  \n",
      "6    2.49  \n",
      "7   -0.75  \n",
      "8   -1.02  \n",
      "9    0.18  \n",
      "10  -0.37  \n",
      "11  -0.75  \n",
      "12  -0.14  \n",
      "13   0.35  \n",
      "14   1.02  \n",
      "15  -1.44  \n",
      "16   0.15  \n",
      "17   1.67  \n",
      "18  -1.25  \n",
      "19  -0.68  \n",
      "20   0.01  \n",
      "21  -1.18  \n",
      "22  -1.00  \n",
      "23  -0.48  \n",
      "24   0.48  \n",
      "25   1.55  \n",
      "26  -0.40  \n",
      "27  -0.78  \n",
      "28   1.51  \n",
      "29   0.60  \n",
      "..    ...  \n",
      "112 -0.95  \n",
      "113 -1.53  \n",
      "114 -0.40  \n",
      "115  0.98  \n",
      "116  1.05  \n",
      "117 -1.98  \n",
      "118 -0.13  \n",
      "119  0.32  \n",
      "120  1.62  \n",
      "121  0.04  \n",
      "122  0.19  \n",
      "123  1.21  \n",
      "124 -0.72  \n",
      "125 -0.43  \n",
      "126  2.30  \n",
      "127 -1.51  \n",
      "128 -1.54  \n",
      "129 -0.92  \n",
      "130 -0.46  \n",
      "131  1.41  \n",
      "132  0.32  \n",
      "133  0.71  \n",
      "134 -0.75  \n",
      "135  1.10  \n",
      "136 -1.61  \n",
      "137 -0.90  \n",
      "138  1.81  \n",
      "139 -1.63  \n",
      "140 -1.05  \n",
      "141 -0.13  \n",
      "\n",
      "[142 rows x 13 columns]\n"
     ]
    }
   ],
   "source": [
    "os.chdir('/Users/brownscholar/Dropbox/BridgeUP_ClimateCoders/Data')#got path\n",
    "enso = pd.read_excel('NOAA_ENSOIndex.xlsx')#😎😎😎😎😎😎😎used pd.read \n",
    "print(enso)#printed"
   ]
  },
  {
   "cell_type": "markdown",
   "metadata": {},
   "source": [
    "#### How many years of data do we have?"
   ]
  },
  {
   "cell_type": "code",
   "execution_count": 4,
   "metadata": {},
   "outputs": [
    {
     "data": {
      "text/html": [
       "<div>\n",
       "<style scoped>\n",
       "    .dataframe tbody tr th:only-of-type {\n",
       "        vertical-align: middle;\n",
       "    }\n",
       "\n",
       "    .dataframe tbody tr th {\n",
       "        vertical-align: top;\n",
       "    }\n",
       "\n",
       "    .dataframe thead th {\n",
       "        text-align: right;\n",
       "    }\n",
       "</style>\n",
       "<table border=\"1\" class=\"dataframe\">\n",
       "  <thead>\n",
       "    <tr style=\"text-align: right;\">\n",
       "      <th></th>\n",
       "      <th>Year</th>\n",
       "      <th>1</th>\n",
       "      <th>2</th>\n",
       "      <th>3</th>\n",
       "      <th>4</th>\n",
       "      <th>5</th>\n",
       "      <th>6</th>\n",
       "      <th>7</th>\n",
       "      <th>8</th>\n",
       "      <th>9</th>\n",
       "      <th>10</th>\n",
       "      <th>11</th>\n",
       "      <th>12</th>\n",
       "    </tr>\n",
       "  </thead>\n",
       "  <tbody>\n",
       "    <tr>\n",
       "      <th>0</th>\n",
       "      <td>1871</td>\n",
       "      <td>-0.25</td>\n",
       "      <td>-0.58</td>\n",
       "      <td>-0.43</td>\n",
       "      <td>-0.50</td>\n",
       "      <td>-0.70</td>\n",
       "      <td>-0.53</td>\n",
       "      <td>-0.60</td>\n",
       "      <td>-0.33</td>\n",
       "      <td>-0.24</td>\n",
       "      <td>-0.33</td>\n",
       "      <td>-0.31</td>\n",
       "      <td>-0.58</td>\n",
       "    </tr>\n",
       "    <tr>\n",
       "      <th>1</th>\n",
       "      <td>1872</td>\n",
       "      <td>-0.72</td>\n",
       "      <td>-0.62</td>\n",
       "      <td>-0.50</td>\n",
       "      <td>-0.77</td>\n",
       "      <td>-0.62</td>\n",
       "      <td>-0.52</td>\n",
       "      <td>-0.32</td>\n",
       "      <td>-0.85</td>\n",
       "      <td>-1.02</td>\n",
       "      <td>-0.94</td>\n",
       "      <td>-0.79</td>\n",
       "      <td>-0.88</td>\n",
       "    </tr>\n",
       "    <tr>\n",
       "      <th>2</th>\n",
       "      <td>1873</td>\n",
       "      <td>-0.78</td>\n",
       "      <td>-1.01</td>\n",
       "      <td>-1.31</td>\n",
       "      <td>-0.67</td>\n",
       "      <td>-0.53</td>\n",
       "      <td>-0.48</td>\n",
       "      <td>-0.58</td>\n",
       "      <td>-0.39</td>\n",
       "      <td>-0.34</td>\n",
       "      <td>-0.78</td>\n",
       "      <td>-0.77</td>\n",
       "      <td>-0.70</td>\n",
       "    </tr>\n",
       "    <tr>\n",
       "      <th>3</th>\n",
       "      <td>1874</td>\n",
       "      <td>-0.93</td>\n",
       "      <td>-1.06</td>\n",
       "      <td>-1.40</td>\n",
       "      <td>-0.94</td>\n",
       "      <td>-0.86</td>\n",
       "      <td>-0.72</td>\n",
       "      <td>-1.00</td>\n",
       "      <td>-1.05</td>\n",
       "      <td>-1.13</td>\n",
       "      <td>-1.25</td>\n",
       "      <td>-1.33</td>\n",
       "      <td>-1.14</td>\n",
       "    </tr>\n",
       "    <tr>\n",
       "      <th>4</th>\n",
       "      <td>1875</td>\n",
       "      <td>-0.71</td>\n",
       "      <td>-0.37</td>\n",
       "      <td>-0.59</td>\n",
       "      <td>-0.87</td>\n",
       "      <td>-1.09</td>\n",
       "      <td>-0.76</td>\n",
       "      <td>-0.85</td>\n",
       "      <td>-0.81</td>\n",
       "      <td>-0.91</td>\n",
       "      <td>-0.83</td>\n",
       "      <td>-0.64</td>\n",
       "      <td>-0.75</td>\n",
       "    </tr>\n",
       "  </tbody>\n",
       "</table>\n",
       "</div>"
      ],
      "text/plain": [
       "   Year     1     2     3     4     5     6     7     8     9    10    11  \\\n",
       "0  1871 -0.25 -0.58 -0.43 -0.50 -0.70 -0.53 -0.60 -0.33 -0.24 -0.33 -0.31   \n",
       "1  1872 -0.72 -0.62 -0.50 -0.77 -0.62 -0.52 -0.32 -0.85 -1.02 -0.94 -0.79   \n",
       "2  1873 -0.78 -1.01 -1.31 -0.67 -0.53 -0.48 -0.58 -0.39 -0.34 -0.78 -0.77   \n",
       "3  1874 -0.93 -1.06 -1.40 -0.94 -0.86 -0.72 -1.00 -1.05 -1.13 -1.25 -1.33   \n",
       "4  1875 -0.71 -0.37 -0.59 -0.87 -1.09 -0.76 -0.85 -0.81 -0.91 -0.83 -0.64   \n",
       "\n",
       "     12  \n",
       "0 -0.58  \n",
       "1 -0.88  \n",
       "2 -0.70  \n",
       "3 -1.14  \n",
       "4 -0.75  "
      ]
     },
     "execution_count": 4,
     "metadata": {},
     "output_type": "execute_result"
    }
   ],
   "source": [
    "enso.head()"
   ]
  },
  {
   "cell_type": "markdown",
   "metadata": {},
   "source": [
    "#### Find the monthly mean\n",
    "\n",
    "Remember!\n",
    "1. \"your data\".mean(axis = **0**) - mean along the columns\n",
    "1. \"your data\".mean(axis = **1**) - mean along the rows"
   ]
  },
  {
   "cell_type": "code",
   "execution_count": 53,
   "metadata": {},
   "outputs": [
    {
     "name": "stdout",
     "output_type": "stream",
     "text": [
      "Year    142.00\n",
      "1         5.92\n",
      "2         5.54\n",
      "3         4.13\n",
      "4         3.71\n",
      "5         3.73\n",
      "6         3.70\n",
      "7         4.14\n",
      "8         4.42\n",
      "9         4.66\n",
      "10        5.38\n",
      "11        5.60\n",
      "12        5.67\n",
      "dtype: float64\n"
     ]
    }
   ],
   "source": [
    "print(enso.max(axis = 0) - enso.min(axis = 0) +1) #use column for monthly mean data"
   ]
  },
  {
   "cell_type": "code",
   "execution_count": 54,
   "metadata": {},
   "outputs": [],
   "source": [
    "eindex = enso.set_index(\"Year\")\n",
    "monmean = enso.max(axis = 0) - enso.min(axis = 0) +1"
   ]
  },
  {
   "cell_type": "code",
   "execution_count": 49,
   "metadata": {},
   "outputs": [
    {
     "name": "stdout",
     "output_type": "stream",
     "text": [
      "        1     2     3     4     5     6     7     8     9     10    11    12\n",
      "Year                                                                        \n",
      "1871 -0.25 -0.58 -0.43 -0.50 -0.70 -0.53 -0.60 -0.33 -0.24 -0.33 -0.31 -0.58\n",
      "1872 -0.72 -0.62 -0.50 -0.77 -0.62 -0.52 -0.32 -0.85 -1.02 -0.94 -0.79 -0.88\n",
      "1873 -0.78 -1.01 -1.31 -0.67 -0.53 -0.48 -0.58 -0.39 -0.34 -0.78 -0.77 -0.70\n",
      "1874 -0.93 -1.06 -1.40 -0.94 -0.86 -0.72 -1.00 -1.05 -1.13 -1.25 -1.33 -1.14\n",
      "1875 -0.71 -0.37 -0.59 -0.87 -1.09 -0.76 -0.85 -0.81 -0.91 -0.83 -0.64 -0.75\n",
      "1876 -0.95 -1.20 -1.13 -1.18 -1.08 -0.43 -0.34 -0.16 -0.02  0.11  0.15  0.23\n",
      "1877  0.35  0.46  0.52  0.50  0.76  0.98  1.42  1.54  1.75  1.95  2.08  2.49\n",
      "1878  2.41  2.43  1.31  0.92  0.82  0.92  0.25 -0.11 -0.32 -0.53 -0.70 -0.75\n",
      "1879 -0.55 -0.18 -0.24 -0.37 -0.83 -0.67 -0.77 -0.69 -0.83 -0.93 -1.14 -1.02\n",
      "1880 -1.00 -0.73 -0.62 -0.57 -0.71 -0.61 -0.53 -0.24 -0.03  0.17  0.24  0.18\n",
      "1881  0.29  0.23  0.32  0.41  0.16  0.23 -0.26 -0.17 -0.33 -0.43 -0.59 -0.37\n",
      "1882 -0.45 -0.55 -0.53  0.10  0.01 -0.40 -0.57 -0.33 -0.51 -0.65 -0.92 -0.75\n",
      "1883 -0.46 -0.49 -0.40 -0.23 -0.38 -0.21 -0.01 -0.03 -0.17 -0.42 -0.22 -0.14\n",
      "1884 -0.11 -0.01  0.00  0.26  0.40 -0.13  0.28  0.20  0.18  0.29  0.30  0.35\n",
      "1885  0.12  0.27  0.12 -0.02  0.44  0.17  0.08  0.34  0.52  0.72  0.81  1.02\n",
      "1886  0.17 -0.10 -0.11 -0.37 -0.85 -0.90 -0.97 -1.03 -1.21 -1.14 -1.34 -1.44\n",
      "1887 -0.68 -1.02 -1.17 -1.18 -1.14 -0.56 -0.55 -0.62 -0.34 -0.12  0.04  0.15\n",
      "1888  0.15  0.66  0.40  0.30  0.47  0.40  0.56  0.93  0.58  1.42  2.21  1.67\n",
      "1889  1.98  1.47  0.83  0.46  0.32  0.09 -0.76 -0.99 -0.92 -1.31 -1.08 -1.25\n",
      "1890 -2.49 -2.11 -1.15 -1.14 -1.00 -0.86 -0.92 -1.38 -1.29 -1.26 -1.07 -0.68\n",
      "1891 -0.45 -0.25 -0.07  0.15  0.13  0.29  0.11  0.05 -0.08 -0.03  0.06  0.01\n",
      "1892 -0.50 -0.34 -0.58 -0.65 -0.72 -0.57 -0.62 -0.63 -1.07 -1.54 -1.62 -1.18\n",
      "1893 -1.23 -1.16 -1.24 -1.30 -1.32 -1.19 -1.32 -1.29 -1.28 -1.36 -1.30 -1.00\n",
      "1894 -1.09 -1.13 -1.06 -0.92 -1.00 -0.84 -0.88 -0.80 -1.10 -0.82 -0.92 -0.48\n",
      "1895 -0.73 -0.49 -0.40 -0.17 -0.03 -0.21 -0.26  0.36  0.42  0.32  0.44  0.48\n",
      "1896  0.16  0.09  0.15 -0.01 -0.04 -0.21  0.43  1.05  1.04  1.10  1.51  1.55\n",
      "1897  1.49  1.14  0.54 -0.22 -0.17 -0.02  0.07 -0.15 -0.24 -0.57 -0.61 -0.40\n",
      "1898 -0.51 -0.57 -0.79 -0.61 -0.59 -0.28 -0.63 -0.76 -0.19 -0.33 -0.66 -0.78\n",
      "1899 -0.75 -0.71 -0.56 -0.34  0.04  0.09 -0.02  0.63  0.43  0.92  1.29  1.51\n",
      "1900  1.41  1.29  0.99  0.66  0.54  0.76  0.75  0.78  0.56  0.42  0.14  0.60\n",
      "...    ...   ...   ...   ...   ...   ...   ...   ...   ...   ...   ...   ...\n",
      "1983  2.43  2.22  1.69  1.12  1.12  0.62 -0.11 -0.13 -0.50 -1.03 -1.13 -0.95\n",
      "1984 -0.80 -0.53 -0.48 -0.60 -0.64 -0.90 -0.40 -0.40 -0.35 -0.83 -1.18 -1.53\n",
      "1985 -0.89 -0.91 -0.96 -0.98 -0.90 -0.76 -0.61 -0.49 -0.57 -0.64 -0.43 -0.40\n",
      "1986 -0.79 -0.64 -0.51 -0.41 -0.47 -0.08  0.16  0.24  0.59  0.90  1.04  0.98\n",
      "1987  1.19  1.17  1.24  0.89  0.91  1.24  1.34  1.48  1.53  1.36  1.29  1.05\n",
      "1988  0.69  0.35  0.29 -0.49 -1.05 -1.46 -1.54 -1.44 -1.33 -2.09 -2.18 -1.98\n",
      "1989 -1.95 -1.37 -1.33 -1.11 -0.80 -0.64 -0.47 -0.58 -0.38 -0.40 -0.30 -0.13\n",
      "1990  0.02  0.36  0.20  0.26  0.32  0.00  0.15  0.17  0.12  0.13  0.08  0.32\n",
      "1991  0.51  0.32  0.10  0.21  0.44  0.65  0.62  0.43  0.22  0.91  1.14  1.62\n",
      "1992  1.61  1.62  1.50  1.41  1.27  0.53  0.27 -0.15 -0.14 -0.35 -0.14  0.04\n",
      "1993  0.28  0.42  0.47  0.92  0.93  0.64  0.33  0.16  0.26  0.36  0.28  0.19\n",
      "1994  0.03 -0.16 -0.06  0.03  0.14  0.27  0.16  0.52  0.40  0.90  1.14  1.21\n",
      "1995  1.10  0.87  0.49  0.27  0.03  0.08  0.03 -0.38 -0.57 -0.72 -0.78 -0.72\n",
      "1996 -0.65 -0.66 -0.48 -0.34 -0.40 -0.12 -0.14 -0.30 -0.34 -0.28 -0.30 -0.43\n",
      "1997 -0.43 -0.24 -0.06  0.34  0.87  1.15  1.60  1.94  2.10  2.29  2.42  2.30\n",
      "1998  2.42  2.08  1.49  0.90  0.68 -0.39 -0.73 -0.83 -0.82 -1.19 -1.23 -1.51\n",
      "1999 -1.53 -1.41 -0.92 -0.81 -0.87 -0.95 -0.84 -0.98 -0.84 -1.03 -1.41 -1.54\n",
      "2000 -1.79 -1.53 -1.26 -0.80 -0.80 -0.75 -0.57 -0.36 -0.39 -0.55 -0.75 -0.92\n",
      "2001 -0.88 -0.63 -0.48 -0.30 -0.30 -0.11  0.01 -0.07 -0.28 -0.26 -0.28 -0.46\n",
      "2002 -0.14  0.00  0.11  0.14  0.21  0.68  0.57  0.70  0.82  1.16  1.41  1.41\n",
      "2003  0.98  0.64  0.48 -0.03 -0.52 -0.19  0.14  0.05  0.15  0.46  0.39  0.32\n",
      "2004  0.26  0.17 -0.10  0.06  0.10  0.14  0.41  0.66  0.67  0.73  0.62  0.71\n",
      "2005  0.56  0.26  0.28  0.28  0.30  0.22 -0.01 -0.04 -0.08 -0.15 -0.44 -0.75\n",
      "2006 -0.98 -0.71 -0.73 -0.30 -0.11  0.09  0.03  0.37  0.63  0.76  0.98  1.10\n",
      "2007  0.59  0.12 -0.15 -0.16 -0.39 -0.16 -0.37 -0.57 -1.04 -1.40 -1.58 -1.61\n",
      "2008 -1.79 -1.70 -1.17 -0.89 -0.64 -0.44 -0.04 -0.04 -0.28 -0.30 -0.37 -0.90\n",
      "2009 -1.00 -0.71 -0.72 -0.25  0.17  0.49  0.69  0.62  0.68  0.96  1.49  1.81\n",
      "2010  1.43  1.18  1.07  0.56 -0.15 -0.62 -0.89 -1.33 -1.56 -1.65 -1.57 -1.63\n",
      "2011 -1.70 -1.26 -0.98 -0.74 -0.53 -0.25 -0.23 -0.66 -0.76 -0.93 -1.09 -1.05\n",
      "2012 -0.93 -0.61 -0.48 -0.29 -0.18  0.14  0.44  0.66  0.44  0.23  0.33 -0.13\n",
      "\n",
      "[142 rows x 12 columns]\n",
      "-0.06281690140845073\n"
     ]
    }
   ],
   "source": [
    "eindex = enso.set_index(\"Year\")\n",
    "print(eindex)\n",
    "print(eindex[1].mean())\n",
    "#print(enso)\n",
    "#print(enso.mean(axis = 0))\n",
    "#print(enso.mean(axis = 1))\n",
    "#print(enso.max() - enso.min() +1)\n"
   ]
  },
  {
   "cell_type": "markdown",
   "metadata": {},
   "source": [
    "#### Plot your result"
   ]
  },
  {
   "cell_type": "code",
   "execution_count": 42,
   "metadata": {},
   "outputs": [
    {
     "ename": "TypeError",
     "evalue": "1 is not a string",
     "output_type": "error",
     "traceback": [
      "\u001b[0;31m---------------------------------------------------------------------------\u001b[0m",
      "\u001b[0;31mTypeError\u001b[0m                                 Traceback (most recent call last)",
      "\u001b[0;32m<ipython-input-42-748f29d8ff0f>\u001b[0m in \u001b[0;36m<module>\u001b[0;34m\u001b[0m\n\u001b[1;32m      3\u001b[0m \u001b[0;31m#print(months)\u001b[0m\u001b[0;34m\u001b[0m\u001b[0;34m\u001b[0m\u001b[0;34m\u001b[0m\u001b[0m\n\u001b[1;32m      4\u001b[0m \u001b[0;31m#print(years)\u001b[0m\u001b[0;34m\u001b[0m\u001b[0;34m\u001b[0m\u001b[0;34m\u001b[0m\u001b[0m\n\u001b[0;32m----> 5\u001b[0;31m \u001b[0mplt\u001b[0m\u001b[0;34m.\u001b[0m\u001b[0mplot\u001b[0m\u001b[0;34m(\u001b[0m\u001b[0mmonths\u001b[0m\u001b[0;34m,\u001b[0m \u001b[0myears\u001b[0m\u001b[0;34m)\u001b[0m\u001b[0;34m\u001b[0m\u001b[0;34m\u001b[0m\u001b[0m\n\u001b[0m",
      "\u001b[0;32m/anaconda3/lib/python3.7/site-packages/matplotlib/pyplot.py\u001b[0m in \u001b[0;36mplot\u001b[0;34m(scalex, scaley, data, *args, **kwargs)\u001b[0m\n\u001b[1;32m   2809\u001b[0m     return gca().plot(\n\u001b[1;32m   2810\u001b[0m         *args, scalex=scalex, scaley=scaley, **({\"data\": data} if data\n\u001b[0;32m-> 2811\u001b[0;31m         is not None else {}), **kwargs)\n\u001b[0m\u001b[1;32m   2812\u001b[0m \u001b[0;34m\u001b[0m\u001b[0m\n\u001b[1;32m   2813\u001b[0m \u001b[0;34m\u001b[0m\u001b[0m\n",
      "\u001b[0;32m/anaconda3/lib/python3.7/site-packages/matplotlib/__init__.py\u001b[0m in \u001b[0;36minner\u001b[0;34m(ax, data, *args, **kwargs)\u001b[0m\n\u001b[1;32m   1808\u001b[0m                         \u001b[0;34m\"the Matplotlib list!)\"\u001b[0m \u001b[0;34m%\u001b[0m \u001b[0;34m(\u001b[0m\u001b[0mlabel_namer\u001b[0m\u001b[0;34m,\u001b[0m \u001b[0mfunc\u001b[0m\u001b[0;34m.\u001b[0m\u001b[0m__name__\u001b[0m\u001b[0;34m)\u001b[0m\u001b[0;34m,\u001b[0m\u001b[0;34m\u001b[0m\u001b[0;34m\u001b[0m\u001b[0m\n\u001b[1;32m   1809\u001b[0m                         RuntimeWarning, stacklevel=2)\n\u001b[0;32m-> 1810\u001b[0;31m             \u001b[0;32mreturn\u001b[0m \u001b[0mfunc\u001b[0m\u001b[0;34m(\u001b[0m\u001b[0max\u001b[0m\u001b[0;34m,\u001b[0m \u001b[0;34m*\u001b[0m\u001b[0margs\u001b[0m\u001b[0;34m,\u001b[0m \u001b[0;34m**\u001b[0m\u001b[0mkwargs\u001b[0m\u001b[0;34m)\u001b[0m\u001b[0;34m\u001b[0m\u001b[0;34m\u001b[0m\u001b[0m\n\u001b[0m\u001b[1;32m   1811\u001b[0m \u001b[0;34m\u001b[0m\u001b[0m\n\u001b[1;32m   1812\u001b[0m         inner.__doc__ = _add_data_doc(inner.__doc__,\n",
      "\u001b[0;32m/anaconda3/lib/python3.7/site-packages/matplotlib/axes/_axes.py\u001b[0m in \u001b[0;36mplot\u001b[0;34m(self, scalex, scaley, *args, **kwargs)\u001b[0m\n\u001b[1;32m   1609\u001b[0m         \u001b[0mkwargs\u001b[0m \u001b[0;34m=\u001b[0m \u001b[0mcbook\u001b[0m\u001b[0;34m.\u001b[0m\u001b[0mnormalize_kwargs\u001b[0m\u001b[0;34m(\u001b[0m\u001b[0mkwargs\u001b[0m\u001b[0;34m,\u001b[0m \u001b[0mmlines\u001b[0m\u001b[0;34m.\u001b[0m\u001b[0mLine2D\u001b[0m\u001b[0;34m.\u001b[0m\u001b[0m_alias_map\u001b[0m\u001b[0;34m)\u001b[0m\u001b[0;34m\u001b[0m\u001b[0;34m\u001b[0m\u001b[0m\n\u001b[1;32m   1610\u001b[0m \u001b[0;34m\u001b[0m\u001b[0m\n\u001b[0;32m-> 1611\u001b[0;31m         \u001b[0;32mfor\u001b[0m \u001b[0mline\u001b[0m \u001b[0;32min\u001b[0m \u001b[0mself\u001b[0m\u001b[0;34m.\u001b[0m\u001b[0m_get_lines\u001b[0m\u001b[0;34m(\u001b[0m\u001b[0;34m*\u001b[0m\u001b[0margs\u001b[0m\u001b[0;34m,\u001b[0m \u001b[0;34m**\u001b[0m\u001b[0mkwargs\u001b[0m\u001b[0;34m)\u001b[0m\u001b[0;34m:\u001b[0m\u001b[0;34m\u001b[0m\u001b[0;34m\u001b[0m\u001b[0m\n\u001b[0m\u001b[1;32m   1612\u001b[0m             \u001b[0mself\u001b[0m\u001b[0;34m.\u001b[0m\u001b[0madd_line\u001b[0m\u001b[0;34m(\u001b[0m\u001b[0mline\u001b[0m\u001b[0;34m)\u001b[0m\u001b[0;34m\u001b[0m\u001b[0;34m\u001b[0m\u001b[0m\n\u001b[1;32m   1613\u001b[0m             \u001b[0mlines\u001b[0m\u001b[0;34m.\u001b[0m\u001b[0mappend\u001b[0m\u001b[0;34m(\u001b[0m\u001b[0mline\u001b[0m\u001b[0;34m)\u001b[0m\u001b[0;34m\u001b[0m\u001b[0;34m\u001b[0m\u001b[0m\n",
      "\u001b[0;32m/anaconda3/lib/python3.7/site-packages/matplotlib/axes/_base.py\u001b[0m in \u001b[0;36m_grab_next_args\u001b[0;34m(self, *args, **kwargs)\u001b[0m\n\u001b[1;32m    391\u001b[0m                 \u001b[0mthis\u001b[0m \u001b[0;34m+=\u001b[0m \u001b[0margs\u001b[0m\u001b[0;34m[\u001b[0m\u001b[0;36m0\u001b[0m\u001b[0;34m]\u001b[0m\u001b[0;34m,\u001b[0m\u001b[0;34m\u001b[0m\u001b[0;34m\u001b[0m\u001b[0m\n\u001b[1;32m    392\u001b[0m                 \u001b[0margs\u001b[0m \u001b[0;34m=\u001b[0m \u001b[0margs\u001b[0m\u001b[0;34m[\u001b[0m\u001b[0;36m1\u001b[0m\u001b[0;34m:\u001b[0m\u001b[0;34m]\u001b[0m\u001b[0;34m\u001b[0m\u001b[0;34m\u001b[0m\u001b[0m\n\u001b[0;32m--> 393\u001b[0;31m             \u001b[0;32myield\u001b[0m \u001b[0;32mfrom\u001b[0m \u001b[0mself\u001b[0m\u001b[0;34m.\u001b[0m\u001b[0m_plot_args\u001b[0m\u001b[0;34m(\u001b[0m\u001b[0mthis\u001b[0m\u001b[0;34m,\u001b[0m \u001b[0mkwargs\u001b[0m\u001b[0;34m)\u001b[0m\u001b[0;34m\u001b[0m\u001b[0;34m\u001b[0m\u001b[0m\n\u001b[0m\u001b[1;32m    394\u001b[0m \u001b[0;34m\u001b[0m\u001b[0m\n\u001b[1;32m    395\u001b[0m \u001b[0;34m\u001b[0m\u001b[0m\n",
      "\u001b[0;32m/anaconda3/lib/python3.7/site-packages/matplotlib/axes/_base.py\u001b[0m in \u001b[0;36m_plot_args\u001b[0;34m(self, tup, kwargs)\u001b[0m\n\u001b[1;32m    368\u001b[0m             \u001b[0mx\u001b[0m\u001b[0;34m,\u001b[0m \u001b[0my\u001b[0m \u001b[0;34m=\u001b[0m \u001b[0mindex_of\u001b[0m\u001b[0;34m(\u001b[0m\u001b[0mtup\u001b[0m\u001b[0;34m[\u001b[0m\u001b[0;34m-\u001b[0m\u001b[0;36m1\u001b[0m\u001b[0;34m]\u001b[0m\u001b[0;34m)\u001b[0m\u001b[0;34m\u001b[0m\u001b[0;34m\u001b[0m\u001b[0m\n\u001b[1;32m    369\u001b[0m \u001b[0;34m\u001b[0m\u001b[0m\n\u001b[0;32m--> 370\u001b[0;31m         \u001b[0mx\u001b[0m\u001b[0;34m,\u001b[0m \u001b[0my\u001b[0m \u001b[0;34m=\u001b[0m \u001b[0mself\u001b[0m\u001b[0;34m.\u001b[0m\u001b[0m_xy_from_xy\u001b[0m\u001b[0;34m(\u001b[0m\u001b[0mx\u001b[0m\u001b[0;34m,\u001b[0m \u001b[0my\u001b[0m\u001b[0;34m)\u001b[0m\u001b[0;34m\u001b[0m\u001b[0;34m\u001b[0m\u001b[0m\n\u001b[0m\u001b[1;32m    371\u001b[0m \u001b[0;34m\u001b[0m\u001b[0m\n\u001b[1;32m    372\u001b[0m         \u001b[0;32mif\u001b[0m \u001b[0mself\u001b[0m\u001b[0;34m.\u001b[0m\u001b[0mcommand\u001b[0m \u001b[0;34m==\u001b[0m \u001b[0;34m'plot'\u001b[0m\u001b[0;34m:\u001b[0m\u001b[0;34m\u001b[0m\u001b[0;34m\u001b[0m\u001b[0m\n",
      "\u001b[0;32m/anaconda3/lib/python3.7/site-packages/matplotlib/axes/_base.py\u001b[0m in \u001b[0;36m_xy_from_xy\u001b[0;34m(self, x, y)\u001b[0m\n\u001b[1;32m    202\u001b[0m     \u001b[0;32mdef\u001b[0m \u001b[0m_xy_from_xy\u001b[0m\u001b[0;34m(\u001b[0m\u001b[0mself\u001b[0m\u001b[0;34m,\u001b[0m \u001b[0mx\u001b[0m\u001b[0;34m,\u001b[0m \u001b[0my\u001b[0m\u001b[0;34m)\u001b[0m\u001b[0;34m:\u001b[0m\u001b[0;34m\u001b[0m\u001b[0;34m\u001b[0m\u001b[0m\n\u001b[1;32m    203\u001b[0m         \u001b[0;32mif\u001b[0m \u001b[0mself\u001b[0m\u001b[0;34m.\u001b[0m\u001b[0maxes\u001b[0m\u001b[0;34m.\u001b[0m\u001b[0mxaxis\u001b[0m \u001b[0;32mis\u001b[0m \u001b[0;32mnot\u001b[0m \u001b[0;32mNone\u001b[0m \u001b[0;32mand\u001b[0m \u001b[0mself\u001b[0m\u001b[0;34m.\u001b[0m\u001b[0maxes\u001b[0m\u001b[0;34m.\u001b[0m\u001b[0myaxis\u001b[0m \u001b[0;32mis\u001b[0m \u001b[0;32mnot\u001b[0m \u001b[0;32mNone\u001b[0m\u001b[0;34m:\u001b[0m\u001b[0;34m\u001b[0m\u001b[0;34m\u001b[0m\u001b[0m\n\u001b[0;32m--> 204\u001b[0;31m             \u001b[0mbx\u001b[0m \u001b[0;34m=\u001b[0m \u001b[0mself\u001b[0m\u001b[0;34m.\u001b[0m\u001b[0maxes\u001b[0m\u001b[0;34m.\u001b[0m\u001b[0mxaxis\u001b[0m\u001b[0;34m.\u001b[0m\u001b[0mupdate_units\u001b[0m\u001b[0;34m(\u001b[0m\u001b[0mx\u001b[0m\u001b[0;34m)\u001b[0m\u001b[0;34m\u001b[0m\u001b[0;34m\u001b[0m\u001b[0m\n\u001b[0m\u001b[1;32m    205\u001b[0m             \u001b[0mby\u001b[0m \u001b[0;34m=\u001b[0m \u001b[0mself\u001b[0m\u001b[0;34m.\u001b[0m\u001b[0maxes\u001b[0m\u001b[0;34m.\u001b[0m\u001b[0myaxis\u001b[0m\u001b[0;34m.\u001b[0m\u001b[0mupdate_units\u001b[0m\u001b[0;34m(\u001b[0m\u001b[0my\u001b[0m\u001b[0;34m)\u001b[0m\u001b[0;34m\u001b[0m\u001b[0;34m\u001b[0m\u001b[0m\n\u001b[1;32m    206\u001b[0m \u001b[0;34m\u001b[0m\u001b[0m\n",
      "\u001b[0;32m/anaconda3/lib/python3.7/site-packages/matplotlib/axis.py\u001b[0m in \u001b[0;36mupdate_units\u001b[0;34m(self, data)\u001b[0m\n\u001b[1;32m   1471\u001b[0m         \u001b[0mneednew\u001b[0m \u001b[0;34m=\u001b[0m \u001b[0mself\u001b[0m\u001b[0;34m.\u001b[0m\u001b[0mconverter\u001b[0m \u001b[0;34m!=\u001b[0m \u001b[0mconverter\u001b[0m\u001b[0;34m\u001b[0m\u001b[0;34m\u001b[0m\u001b[0m\n\u001b[1;32m   1472\u001b[0m         \u001b[0mself\u001b[0m\u001b[0;34m.\u001b[0m\u001b[0mconverter\u001b[0m \u001b[0;34m=\u001b[0m \u001b[0mconverter\u001b[0m\u001b[0;34m\u001b[0m\u001b[0;34m\u001b[0m\u001b[0m\n\u001b[0;32m-> 1473\u001b[0;31m         \u001b[0mdefault\u001b[0m \u001b[0;34m=\u001b[0m \u001b[0mself\u001b[0m\u001b[0;34m.\u001b[0m\u001b[0mconverter\u001b[0m\u001b[0;34m.\u001b[0m\u001b[0mdefault_units\u001b[0m\u001b[0;34m(\u001b[0m\u001b[0mdata\u001b[0m\u001b[0;34m,\u001b[0m \u001b[0mself\u001b[0m\u001b[0;34m)\u001b[0m\u001b[0;34m\u001b[0m\u001b[0;34m\u001b[0m\u001b[0m\n\u001b[0m\u001b[1;32m   1474\u001b[0m         \u001b[0;32mif\u001b[0m \u001b[0mdefault\u001b[0m \u001b[0;32mis\u001b[0m \u001b[0;32mnot\u001b[0m \u001b[0;32mNone\u001b[0m \u001b[0;32mand\u001b[0m \u001b[0mself\u001b[0m\u001b[0;34m.\u001b[0m\u001b[0munits\u001b[0m \u001b[0;32mis\u001b[0m \u001b[0;32mNone\u001b[0m\u001b[0;34m:\u001b[0m\u001b[0;34m\u001b[0m\u001b[0;34m\u001b[0m\u001b[0m\n\u001b[1;32m   1475\u001b[0m             \u001b[0mself\u001b[0m\u001b[0;34m.\u001b[0m\u001b[0mset_units\u001b[0m\u001b[0;34m(\u001b[0m\u001b[0mdefault\u001b[0m\u001b[0;34m)\u001b[0m\u001b[0;34m\u001b[0m\u001b[0;34m\u001b[0m\u001b[0m\n",
      "\u001b[0;32m/anaconda3/lib/python3.7/site-packages/matplotlib/category.py\u001b[0m in \u001b[0;36mdefault_units\u001b[0;34m(data, axis)\u001b[0m\n\u001b[1;32m    101\u001b[0m         \u001b[0;31m# default_units->axis_info->convert\u001b[0m\u001b[0;34m\u001b[0m\u001b[0;34m\u001b[0m\u001b[0;34m\u001b[0m\u001b[0m\n\u001b[1;32m    102\u001b[0m         \u001b[0;32mif\u001b[0m \u001b[0maxis\u001b[0m\u001b[0;34m.\u001b[0m\u001b[0munits\u001b[0m \u001b[0;32mis\u001b[0m \u001b[0;32mNone\u001b[0m\u001b[0;34m:\u001b[0m\u001b[0;34m\u001b[0m\u001b[0;34m\u001b[0m\u001b[0m\n\u001b[0;32m--> 103\u001b[0;31m             \u001b[0maxis\u001b[0m\u001b[0;34m.\u001b[0m\u001b[0mset_units\u001b[0m\u001b[0;34m(\u001b[0m\u001b[0mUnitData\u001b[0m\u001b[0;34m(\u001b[0m\u001b[0mdata\u001b[0m\u001b[0;34m)\u001b[0m\u001b[0;34m)\u001b[0m\u001b[0;34m\u001b[0m\u001b[0;34m\u001b[0m\u001b[0m\n\u001b[0m\u001b[1;32m    104\u001b[0m         \u001b[0;32melse\u001b[0m\u001b[0;34m:\u001b[0m\u001b[0;34m\u001b[0m\u001b[0;34m\u001b[0m\u001b[0m\n\u001b[1;32m    105\u001b[0m             \u001b[0maxis\u001b[0m\u001b[0;34m.\u001b[0m\u001b[0munits\u001b[0m\u001b[0;34m.\u001b[0m\u001b[0mupdate\u001b[0m\u001b[0;34m(\u001b[0m\u001b[0mdata\u001b[0m\u001b[0;34m)\u001b[0m\u001b[0;34m\u001b[0m\u001b[0;34m\u001b[0m\u001b[0m\n",
      "\u001b[0;32m/anaconda3/lib/python3.7/site-packages/matplotlib/category.py\u001b[0m in \u001b[0;36m__init__\u001b[0;34m(self, data)\u001b[0m\n\u001b[1;32m    167\u001b[0m         \u001b[0mself\u001b[0m\u001b[0;34m.\u001b[0m\u001b[0m_counter\u001b[0m \u001b[0;34m=\u001b[0m \u001b[0mitertools\u001b[0m\u001b[0;34m.\u001b[0m\u001b[0mcount\u001b[0m\u001b[0;34m(\u001b[0m\u001b[0;34m)\u001b[0m\u001b[0;34m\u001b[0m\u001b[0;34m\u001b[0m\u001b[0m\n\u001b[1;32m    168\u001b[0m         \u001b[0;32mif\u001b[0m \u001b[0mdata\u001b[0m \u001b[0;32mis\u001b[0m \u001b[0;32mnot\u001b[0m \u001b[0;32mNone\u001b[0m\u001b[0;34m:\u001b[0m\u001b[0;34m\u001b[0m\u001b[0;34m\u001b[0m\u001b[0m\n\u001b[0;32m--> 169\u001b[0;31m             \u001b[0mself\u001b[0m\u001b[0;34m.\u001b[0m\u001b[0mupdate\u001b[0m\u001b[0;34m(\u001b[0m\u001b[0mdata\u001b[0m\u001b[0;34m)\u001b[0m\u001b[0;34m\u001b[0m\u001b[0;34m\u001b[0m\u001b[0m\n\u001b[0m\u001b[1;32m    170\u001b[0m \u001b[0;34m\u001b[0m\u001b[0m\n\u001b[1;32m    171\u001b[0m     \u001b[0;32mdef\u001b[0m \u001b[0mupdate\u001b[0m\u001b[0;34m(\u001b[0m\u001b[0mself\u001b[0m\u001b[0;34m,\u001b[0m \u001b[0mdata\u001b[0m\u001b[0;34m)\u001b[0m\u001b[0;34m:\u001b[0m\u001b[0;34m\u001b[0m\u001b[0;34m\u001b[0m\u001b[0m\n",
      "\u001b[0;32m/anaconda3/lib/python3.7/site-packages/matplotlib/category.py\u001b[0m in \u001b[0;36mupdate\u001b[0;34m(self, data)\u001b[0m\n\u001b[1;32m    186\u001b[0m         \u001b[0;32mfor\u001b[0m \u001b[0mval\u001b[0m \u001b[0;32min\u001b[0m \u001b[0mOrderedDict\u001b[0m\u001b[0;34m.\u001b[0m\u001b[0mfromkeys\u001b[0m\u001b[0;34m(\u001b[0m\u001b[0mdata\u001b[0m\u001b[0;34m)\u001b[0m\u001b[0;34m:\u001b[0m\u001b[0;34m\u001b[0m\u001b[0;34m\u001b[0m\u001b[0m\n\u001b[1;32m    187\u001b[0m             \u001b[0;32mif\u001b[0m \u001b[0;32mnot\u001b[0m \u001b[0misinstance\u001b[0m\u001b[0;34m(\u001b[0m\u001b[0mval\u001b[0m\u001b[0;34m,\u001b[0m \u001b[0;34m(\u001b[0m\u001b[0mstr\u001b[0m\u001b[0;34m,\u001b[0m \u001b[0mbytes\u001b[0m\u001b[0;34m)\u001b[0m\u001b[0;34m)\u001b[0m\u001b[0;34m:\u001b[0m\u001b[0;34m\u001b[0m\u001b[0;34m\u001b[0m\u001b[0m\n\u001b[0;32m--> 188\u001b[0;31m                 \u001b[0;32mraise\u001b[0m \u001b[0mTypeError\u001b[0m\u001b[0;34m(\u001b[0m\u001b[0;34m\"{val!r} is not a string\"\u001b[0m\u001b[0;34m.\u001b[0m\u001b[0mformat\u001b[0m\u001b[0;34m(\u001b[0m\u001b[0mval\u001b[0m\u001b[0;34m=\u001b[0m\u001b[0mval\u001b[0m\u001b[0;34m)\u001b[0m\u001b[0;34m)\u001b[0m\u001b[0;34m\u001b[0m\u001b[0;34m\u001b[0m\u001b[0m\n\u001b[0m\u001b[1;32m    189\u001b[0m             \u001b[0;32mif\u001b[0m \u001b[0mval\u001b[0m \u001b[0;32mnot\u001b[0m \u001b[0;32min\u001b[0m \u001b[0mself\u001b[0m\u001b[0;34m.\u001b[0m\u001b[0m_mapping\u001b[0m\u001b[0;34m:\u001b[0m\u001b[0;34m\u001b[0m\u001b[0;34m\u001b[0m\u001b[0m\n\u001b[1;32m    190\u001b[0m                 \u001b[0mself\u001b[0m\u001b[0;34m.\u001b[0m\u001b[0m_mapping\u001b[0m\u001b[0;34m[\u001b[0m\u001b[0mval\u001b[0m\u001b[0;34m]\u001b[0m \u001b[0;34m=\u001b[0m \u001b[0mnext\u001b[0m\u001b[0;34m(\u001b[0m\u001b[0mself\u001b[0m\u001b[0;34m.\u001b[0m\u001b[0m_counter\u001b[0m\u001b[0;34m)\u001b[0m\u001b[0;34m\u001b[0m\u001b[0;34m\u001b[0m\u001b[0m\n",
      "\u001b[0;31mTypeError\u001b[0m: 1 is not a string"
     ]
    },
    {
     "data": {
      "image/png": "[encoded data removed]",
      "text/plain": [
       "<Figure size 432x288 with 1 Axes>"
      ]
     },
     "metadata": {
      "needs_background": "light"
     },
     "output_type": "display_data"
    }
   ],
   "source": [
    "months = enso.columns\n",
    "years = enso.index\n",
    "#print(months)\n",
    "#print(years)\n",
    "plt.plot(years, months)"
   ]
  },
  {
   "cell_type": "markdown",
   "metadata": {},
   "source": [
    "#### When is ENSO the strongest? Sort your values to check! "
   ]
  },
  {
   "cell_type": "code",
   "execution_count": null,
   "metadata": {},
   "outputs": [],
   "source": []
  },
  {
   "cell_type": "markdown",
   "metadata": {},
   "source": [
    "#### Create a new column for the annual mean"
   ]
  },
  {
   "cell_type": "code",
   "execution_count": null,
   "metadata": {},
   "outputs": [],
   "source": []
  },
  {
   "cell_type": "markdown",
   "metadata": {},
   "source": [
    "#### Plot out your result"
   ]
  },
  {
   "cell_type": "markdown",
   "metadata": {},
   "source": []
  }
 ],
 "metadata": {
  "kernelspec": {
   "display_name": "Python 3",
   "language": "python",
   "name": "python3"
  },
  "language_info": {
   "codemirror_mode": {
    "name": "ipython",
    "version": 3
   },
   "file_extension": ".py",
   "mimetype": "text/x-python",
   "name": "python",
   "nbconvert_exporter": "python",
   "pygments_lexer": "ipython3",
   "version": "3.7.3"
  }
 },
 "nbformat": 4,
 "nbformat_minor": 2
}
