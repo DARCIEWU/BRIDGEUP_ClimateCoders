{
 "cells": [
  {
   "cell_type": "markdown",
   "metadata": {},
   "source": [
    "## Convert time format\n",
    "\n",
    "Our next step in processing our data is making our dates readable. \n",
    "\n",
    "For example:\n",
    "\n",
    "1880.5 = 1880 + ½ of a year = 1880 + 6 months = 06/1880 or June 1880\n",
    "\n",
    "**Our goal**: Convert the date column into separate columns for year and month"
   ]
  },
  {
   "cell_type": "markdown",
   "metadata": {},
   "source": [
    "### Step 1: Do it for one date \n",
    "\n",
    "**Some useful functions**\n",
    "\n",
    "numpy.ceil(**x**) : Returns the number x rounded to the closest and largest whole number\n",
    "* **x**: number or array\n",
    "\n",
    "numpy.floor(**x**) : Returns the number x rounded to the closest and smallest whole number\n",
    "* **x**: number or array\n",
    "\n",
    "numpy.round(**x**, **decimels**) : Returns the rounded number x or rounds all elements in array\n",
    "* **x**: number or array\n",
    "* **decimels**: number of decimels to round to\n",
    "\n",
    "numpy_array.astype(**data type**) : Converts elements in array to a different data type\n",
    "* **data type**: int, float, string etc"
   ]
  },
  {
   "cell_type": "code",
   "execution_count": 26,
   "metadata": {},
   "outputs": [],
   "source": [
    "import numpy as np"
   ]
  },
  {
   "cell_type": "code",
   "execution_count": 27,
   "metadata": {},
   "outputs": [
    {
     "name": "stdout",
     "output_type": "stream",
     "text": [
      "number: 2.5\n",
      "np.ceil(number): 3.0\n",
      "np.floor(number): 2.0\n",
      "np.round(number): 2.0\n",
      "\n",
      " array: [2.75 2.8  2.85 2.9  2.95 3.   3.05 3.1  3.15 3.2 ]\n",
      "np.ceil(array): [3. 3. 3. 3. 3. 3. 4. 4. 4. 4.]\n",
      "np.floor(array): [2. 2. 2. 2. 2. 2. 3. 3. 3. 3.]\n",
      "np.round(array): [3. 3. 3. 3. 3. 3. 3. 3. 3. 3.]\n",
      "\n",
      " array with elements as int: [2 2 2 2 2 2 3 3 3 3]\n"
     ]
    }
   ],
   "source": [
    "#Useful functions\n",
    "\n",
    "test = 2.5\n",
    "print('number:',test)\n",
    "print('np.ceil(number):', np.ceil(2.5))\n",
    "print('np.floor(number):', np.floor(2.5))\n",
    "print('np.round(number):', np.round(2.5,0))\n",
    "\n",
    "test_array = np.arange(2.75,3.25,0.05)\n",
    "print('\\n array:',test_array)\n",
    "print('np.ceil(array):', np.ceil(test_array))\n",
    "print('np.floor(array):', np.floor(test_array))\n",
    "print('np.round(array):', np.round(test_array,0))\n",
    "\n",
    "print('\\n array with elements as int:',test_array.astype(int))"
   ]
  },
  {
   "cell_type": "markdown",
   "metadata": {},
   "source": [
    "Let's start small. Find the year and month associated with the given test date."
   ]
  },
  {
   "cell_type": "code",
   "execution_count": 28,
   "metadata": {},
   "outputs": [
    {
     "name": "stdout",
     "output_type": "stream",
     "text": [
      "1880.5\n",
      "year: 1880.0\n",
      "month 6.0\n"
     ]
    }
   ],
   "source": [
    "date = 1880.5\n",
    "year = np.floor(date)\n",
    "print(date)\n",
    "print('year:',np.floor(date))\n",
    "print('month',12*(date - year))\n",
    "\n",
    "#What do these variables equal?\n",
    "#year =\n",
    "#month = "
   ]
  },
  {
   "cell_type": "markdown",
   "metadata": {},
   "source": [
    "### Step 2: Do it for an array of dates \n",
    "\n",
    "Remember: you can run operations on numpy arrays like they are numbers\n",
    "\n",
    "For example:\n",
    "\n",
    "```A = [1 , 2, 3]```\n",
    "\n",
    "```A * 2 = [2 , 4, 6]```"
   ]
  },
  {
   "cell_type": "code",
   "execution_count": 29,
   "metadata": {},
   "outputs": [
    {
     "name": "stdout",
     "output_type": "stream",
     "text": [
      "[1880.         1880.08333333 1880.16666667 1880.25       1880.33333333\n",
      " 1880.41666667 1880.5        1880.58333333 1880.66666667 1880.75\n",
      " 1880.83333333 1880.91666667 1881.         1881.08333333 1881.16666667\n",
      " 1881.25       1881.33333333 1881.41666667 1881.5        1881.58333333\n",
      " 1881.66666667 1881.75       1881.83333333 1881.91666667 1882.        ]\n",
      "\n",
      " [1880.    1880.083 1880.167 1880.25  1880.333 1880.417 1880.5   1880.583\n",
      " 1880.667 1880.75  1880.833 1880.917 1881.    1881.083 1881.167 1881.25\n",
      " 1881.333 1881.417 1881.5   1881.583 1881.667 1881.75  1881.833 1881.917\n",
      " 1882.   ]\n",
      "\n",
      " [1880. 1880. 1880. 1880. 1880. 1880. 1880. 1880. 1880. 1880. 1880. 1880.\n",
      " 1881. 1881. 1881. 1881. 1881. 1881. 1881. 1881. 1881. 1881. 1881. 1881.\n",
      " 1882.]\n",
      "\n",
      " [ 0.  1.  2.  3.  4.  5.  6.  7.  8.  9. 10. 11. -0.  1.  2.  3.  4.  5.\n",
      "  6.  7.  8.  9. 10. 11. -0.]\n",
      "[22560. 22561. 22562. 22563. 22564. 22565. 22566. 22567. 22568. 22569.\n",
      " 22570. 22571. 22572. 22573. 22574. 22575. 22576. 22577. 22578. 22579.\n",
      " 22580. 22581. 22582. 22583. 22584.]\n"
     ]
    }
   ],
   "source": [
    "date_array = np.arange(1880, 1882.05, 1/12)\n",
    "print(date_array)\n",
    "\n",
    "year_array_rounded = np.round(date_array,3)\n",
    "print('\\n',year_array_rounded)\n",
    "\n",
    "year_array_floor = np.floor(year_array_rounded)\n",
    "print('\\n',year_array_floor)\n",
    "\n",
    "month_array = np.round(12*(date_array-year_array_floor),0)\n",
    "print('\\n',month_array)\n",
    "\n",
    "\n",
    "print(date_array*12)\n",
    "#year_array = \n",
    "#month_array ="
   ]
  },
  {
   "cell_type": "markdown",
   "metadata": {},
   "source": [
    "### Step 3: Do this for a Pandas data column\n",
    "\n",
    "Remember: pandas columns work exactly like numpy arrays"
   ]
  },
  {
   "cell_type": "code",
   "execution_count": 30,
   "metadata": {},
   "outputs": [],
   "source": [
    "import pandas as pd"
   ]
  },
  {
   "cell_type": "code",
   "execution_count": 31,
   "metadata": {},
   "outputs": [
    {
     "name": "stdout",
     "output_type": "stream",
     "text": [
      "[1880.         1880.08333333 1880.16666667 1880.25       1880.33333333\n",
      " 1880.41666667 1880.5        1880.58333333 1880.66666667 1880.75\n",
      " 1880.83333333 1880.91666667 1881.         1881.08333333 1881.16666667\n",
      " 1881.25       1881.33333333 1881.41666667 1881.5        1881.58333333\n",
      " 1881.66666667 1881.75       1881.83333333 1881.91666667 1882.        ]\n",
      "           Date      Data\n",
      "0   1880.000000  0.122167\n",
      "1   1880.083333  0.609373\n",
      "2   1880.166667  0.255061\n",
      "3   1880.250000  0.740796\n",
      "4   1880.333333  0.333235\n",
      "5   1880.416667  0.088970\n",
      "6   1880.500000  0.319131\n",
      "7   1880.583333  0.453485\n",
      "8   1880.666667  0.366415\n",
      "9   1880.750000  0.997328\n",
      "10  1880.833333  0.007894\n",
      "11  1880.916667  0.571977\n",
      "12  1881.000000  0.902968\n",
      "13  1881.083333  0.581293\n",
      "14  1881.166667  0.774935\n",
      "15  1881.250000  0.739510\n",
      "16  1881.333333  0.563284\n",
      "17  1881.416667  0.294217\n",
      "18  1881.500000  0.673386\n",
      "19  1881.583333  0.709857\n",
      "20  1881.666667  0.145785\n",
      "21  1881.750000  0.772230\n",
      "22  1881.833333  0.025233\n",
      "23  1881.916667  0.940123\n",
      "24  1882.000000  0.091642\n"
     ]
    },
    {
     "ename": "AttributeError",
     "evalue": "'float' object has no attribute 'df'",
     "output_type": "error",
     "traceback": [
      "\u001b[0;31m---------------------------------------------------------------------------\u001b[0m",
      "\u001b[0;31mAttributeError\u001b[0m                            Traceback (most recent call last)",
      "\u001b[0;32m<ipython-input-31-a67c9f96cbbe>\u001b[0m in \u001b[0;36m<module>\u001b[0;34m\u001b[0m\n\u001b[1;32m      6\u001b[0m \u001b[0;31m#date_df['Year'] =\u001b[0m\u001b[0;34m\u001b[0m\u001b[0;34m\u001b[0m\u001b[0;34m\u001b[0m\u001b[0m\n\u001b[1;32m      7\u001b[0m \u001b[0;31m#date_df['Month'] =\u001b[0m\u001b[0;34m\u001b[0m\u001b[0;34m\u001b[0m\u001b[0;34m\u001b[0m\u001b[0m\n\u001b[0;32m----> 8\u001b[0;31m \u001b[0myear\u001b[0m \u001b[0;34m=\u001b[0m \u001b[0;34m(\u001b[0m\u001b[0mdate_df\u001b[0m\u001b[0;34m[\u001b[0m\u001b[0;34m'Date'\u001b[0m\u001b[0;34m]\u001b[0m \u001b[0;34m-\u001b[0m \u001b[0mdate\u001b[0m\u001b[0;34m.\u001b[0m\u001b[0mdf\u001b[0m\u001b[0;34m[\u001b[0m\u001b[0;34m'Date'\u001b[0m\u001b[0;34m]\u001b[0m\u001b[0;34m)\u001b[0m\u001b[0;34m\u001b[0m\u001b[0;34m\u001b[0m\u001b[0m\n\u001b[0m\u001b[1;32m      9\u001b[0m \u001b[0;31m#print(date_df['Date'].head(2), \"\\n\")\u001b[0m\u001b[0;34m\u001b[0m\u001b[0;34m\u001b[0m\u001b[0;34m\u001b[0m\u001b[0m\n\u001b[1;32m     10\u001b[0m \u001b[0mprint\u001b[0m\u001b[0;34m(\u001b[0m\u001b[0myear\u001b[0m\u001b[0;34m)\u001b[0m\u001b[0;34m\u001b[0m\u001b[0;34m\u001b[0m\u001b[0m\n",
      "\u001b[0;31mAttributeError\u001b[0m: 'float' object has no attribute 'df'"
     ]
    }
   ],
   "source": [
    "date_df = pd.DataFrame({'Date':date_array,'Data':np.random.rand(len(date_array))})\n",
    "date_df.head()\n",
    "print(date_df['Date'].values)\n",
    "print(date_df)\n",
    "#What do these columns equal?\n",
    "#date_df['Year'] = \n",
    "#date_df['Month'] =\n",
    "year = (date_df['Date'] - date.df['Date'])\n",
    "#print(date_df['Date'].head(2), \"\\n\")\n",
    "print(year)"
   ]
  },
  {
   "cell_type": "code",
   "execution_count": null,
   "metadata": {},
   "outputs": [],
   "source": [
    "print(date_df.head())\n",
    "date_df['Year'] = year_df_floor\n",
    "dare_df.head()"
   ]
  },
  {
   "cell_type": "markdown",
   "metadata": {},
   "source": [
    "### Step 4: Write a function\n",
    "\n",
    "Write a function that takes any Pandas column with dates in the this format and creates a new dataframe with columns for year and month instead.  \n",
    "\n",
    "Discuss in groups about what will go into this skeleton for a function and write your pseudo-code in your lab notes.\n",
    "\n",
    "```def (function_inputs):\n",
    "    do something\n",
    "    return function_outputs```\n",
    "        "
   ]
  },
  {
   "cell_type": "code",
   "execution_count": 44,
   "metadata": {},
   "outputs": [],
   "source": [
    "#Function goes here\n",
    "\n",
    "#x = date_df[date]\n",
    "#year_df_floor = np.floor(rounded_year)\n",
    " #x['month'] = month\n",
    "    #year_df_rounded = np.round(x['Date'],3)\n",
    "    #print('\\n' , year_df_rounded.head())\n",
    "    \n",
    "    #year_df_floor = np.floor(year_df_rounded)\n",
    "    #print('\\n' , year_df_floor.head())\n",
    "import numpy as np\n",
    "\n",
    "def conv(date):\n",
    "    \n",
    "    year_rounded = np.round(date,3)\n",
    "    \n",
    "    year = np.floor(year_rounded)\n",
    "    \n",
    "    month = np.ceil(12*(date - year)+1)\n",
    "   \n",
    "    #date['Year'] = year\n",
    "    #date['Month'] = month\n",
    "    \n",
    "    return date\n",
    "    "
   ]
  },
  {
   "cell_type": "code",
   "execution_count": 45,
   "metadata": {},
   "outputs": [
    {
     "data": {
      "text/plain": [
       "7.2"
      ]
     },
     "execution_count": 45,
     "metadata": {},
     "output_type": "execute_result"
    }
   ],
   "source": [
    "conv(7.2)"
   ]
  },
  {
   "cell_type": "code",
   "execution_count": null,
   "metadata": {},
   "outputs": [],
   "source": []
  },
  {
   "cell_type": "code",
   "execution_count": null,
   "metadata": {},
   "outputs": [],
   "source": []
  }
 ],
 "metadata": {
  "kernelspec": {
   "display_name": "Python 3",
   "language": "python",
   "name": "python3"
  },
  "language_info": {
   "codemirror_mode": {
    "name": "ipython",
    "version": 3
   },
   "file_extension": ".py",
   "mimetype": "text/x-python",
   "name": "python",
   "nbconvert_exporter": "python",
   "pygments_lexer": "ipython3",
   "version": "3.7.6"
  }
 },
 "nbformat": 4,
 "nbformat_minor": 4
}
